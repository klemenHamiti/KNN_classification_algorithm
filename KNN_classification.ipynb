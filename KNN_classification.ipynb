{
 "cells": [
  {
   "cell_type": "code",
   "execution_count": 1,
   "metadata": {},
   "outputs": [],
   "source": [
    "def vector_difference(v,w):\n",
    "    return [v_i - w_i for v_i, w_i in zip(v,w)]"
   ]
  },
  {
   "cell_type": "code",
   "execution_count": 2,
   "metadata": {},
   "outputs": [],
   "source": [
    "from math import sqrt"
   ]
  },
  {
   "cell_type": "code",
   "execution_count": 3,
   "metadata": {},
   "outputs": [],
   "source": [
    "def vector_dot(v,w):\n",
    "    return sum([v_i * w_i for v_i, w_i in zip(v,w)])"
   ]
  },
  {
   "cell_type": "code",
   "execution_count": 4,
   "metadata": {},
   "outputs": [],
   "source": [
    "def vector_squared(v):\n",
    "    return vector_dot(v,v)"
   ]
  },
  {
   "cell_type": "code",
   "execution_count": 5,
   "metadata": {},
   "outputs": [],
   "source": [
    "def magnitude(v):\n",
    "    return sqrt(vector_squared(v))"
   ]
  },
  {
   "cell_type": "code",
   "execution_count": 6,
   "metadata": {},
   "outputs": [],
   "source": [
    "def euclidean_distance(v,w):\n",
    "    return magnitude(vector_difference(v,w))"
   ]
  },
  {
   "cell_type": "code",
   "execution_count": 7,
   "metadata": {},
   "outputs": [],
   "source": [
    "# KNN algo"
   ]
  },
  {
   "cell_type": "code",
   "execution_count": 8,
   "metadata": {},
   "outputs": [],
   "source": [
    "# some arbitrarry data\n",
    "data = {\"class_a\" : [1,1,1,1,1], \"class_b\" : [2,2,2,2,2]}"
   ]
  },
  {
   "cell_type": "code",
   "execution_count": 60,
   "metadata": {},
   "outputs": [],
   "source": [
    "# point to classify\n",
    "new_point = [1,1,1,1]"
   ]
  },
  {
   "cell_type": "code",
   "execution_count": 67,
   "metadata": {},
   "outputs": [],
   "source": [
    "def knn(data, new_point):\n",
    "    # if classes are tied\n",
    "    tie = []\n",
    "    # initialize variables to track\n",
    "    lo_distance, key_lo_dist = 0, \"\"\n",
    "    # iterete troug dictionary, keeping track of the index and keys\n",
    "    for i, (key,_)  in enumerate(data.items()):\n",
    "        # calculate distance from class to new point\n",
    "        dist = euclidean_distance(data[key], new_point)\n",
    "        # if its the first iteration lowest distance is first distance\n",
    "        if i == 0:\n",
    "            lo_dist, key_lo_dist = dist, key\n",
    "            # since tie is empty add the first value\n",
    "            tie.append(key)\n",
    "        elif dist < lo_dist:\n",
    "            lo_dist, key_lo_dist = dist, key\n",
    "            # empty the tie list and add new value to check \n",
    "            del tie[:]\n",
    "            tie.append(key)\n",
    "        elif dist == lo_dist:\n",
    "            # if distances of classes are tied\n",
    "            tie.append(key)\n",
    "    # there need to be at least 2 classes for a tie to be viable\n",
    "    if len(tie) > 1:\n",
    "        return tie\n",
    "    else:\n",
    "        return key_lo_dist"
   ]
  },
  {
   "cell_type": "code",
   "execution_count": 64,
   "metadata": {},
   "outputs": [
    {
     "data": {
      "text/plain": [
       "'class_a'"
      ]
     },
     "execution_count": 64,
     "metadata": {},
     "output_type": "execute_result"
    }
   ],
   "source": [
    "knn(data, new_point)"
   ]
  }
 ],
 "metadata": {
  "kernelspec": {
   "display_name": "Python 3",
   "language": "python",
   "name": "python3"
  },
  "language_info": {
   "codemirror_mode": {
    "name": "ipython",
    "version": 3
   },
   "file_extension": ".py",
   "mimetype": "text/x-python",
   "name": "python",
   "nbconvert_exporter": "python",
   "pygments_lexer": "ipython3",
   "version": "3.6.5"
  }
 },
 "nbformat": 4,
 "nbformat_minor": 2
}
